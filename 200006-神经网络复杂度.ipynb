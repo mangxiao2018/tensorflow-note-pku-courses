{
 "cells": [
  {
   "cell_type": "markdown",
   "metadata": {},
   "source": [
    "# 神经网络复杂度"
   ]
  },
  {
   "cell_type": "markdown",
   "metadata": {},
   "source": [
    "NN复杂度：多用NN层数和NN参数的个数表示"
   ]
  },
  {
   "cell_type": "markdown",
   "metadata": {},
   "source": [
    "空间复杂度：层数 = 隐藏层的层数 + 1个输出层"
   ]
  },
  {
   "cell_type": "markdown",
   "metadata": {},
   "source": [
    "![image.png](images/nn-3-layer.jpg)"
   ]
  },
  {
   "cell_type": "markdown",
   "metadata": {},
   "source": [
    "上图为2层NN"
   ]
  },
  {
   "cell_type": "markdown",
   "metadata": {},
   "source": [
    "总参数 = 总w + 总b"
   ]
  },
  {
   "cell_type": "markdown",
   "metadata": {},
   "source": [
    "上图3x4+4 + 4x2+2 = 26   其中3x4为第一层，4x2为第二层"
   ]
  },
  {
   "cell_type": "markdown",
   "metadata": {},
   "source": [
    "时间复杂度："
   ]
  },
  {
   "cell_type": "markdown",
   "metadata": {},
   "source": [
    "乘加运算次数"
   ]
  },
  {
   "cell_type": "markdown",
   "metadata": {},
   "source": [
    "上图 3x4 + 4x2 = 20  其中3x4为第一层，4x2为第二层"
   ]
  },
  {
   "cell_type": "code",
   "execution_count": null,
   "metadata": {},
   "outputs": [],
   "source": []
  }
 ],
 "metadata": {
  "kernelspec": {
   "display_name": "Python 3",
   "language": "python",
   "name": "python3"
  },
  "language_info": {
   "codemirror_mode": {
    "name": "ipython",
    "version": 3
   },
   "file_extension": ".py",
   "mimetype": "text/x-python",
   "name": "python",
   "nbconvert_exporter": "python",
   "pygments_lexer": "ipython3",
   "version": "3.7.7"
  }
 },
 "nbformat": 4,
 "nbformat_minor": 4
}
