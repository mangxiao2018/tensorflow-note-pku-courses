{
 "cells": [
  {
   "cell_type": "markdown",
   "metadata": {},
   "source": [
    "![image.png](./images/yxwb.jpg)"
   ]
  },
  {
   "cell_type": "markdown",
   "metadata": {},
   "source": [
    "$\\  y = x * w + b $"
   ]
  },
  {
   "cell_type": "markdown",
   "metadata": {},
   "source": [
    "用鸢尾花数据集，此数据集包含鸢尾花花萼长、花萼宽、花瓣长、 花瓣宽及对应的类别。    \n",
    "其中前 4 个属性作为输入特征，类别作为标签:  \n",
    "**0 代表狗 尾草鸢尾，**  \n",
    "**1 代表杂色鸢尾，**  \n",
    "**2 代表弗吉尼亚鸢尾。**  \n",
    "人们通过对数据进行分析总结出了规律：通过测量花的花萼长、花萼宽、花瓣长、花瓣宽，可以得出鸢尾花 的类别（如：花萼长>花萼宽且花瓣长/花瓣宽>2 ，则杂色鸢尾）  "
   ]
  },
  {
   "cell_type": "markdown",
   "metadata": {},
   "source": [
    "![image.png](./images/yxwb-data.jpg)"
   ]
  },
  {
   "cell_type": "markdown",
   "metadata": {},
   "source": [
    "**权重与偏置初始化矩阵**"
   ]
  },
  {
   "cell_type": "markdown",
   "metadata": {},
   "source": [
    "![image.png](./images/matrix.jpg)"
   ]
  },
  {
   "cell_type": "markdown",
   "metadata": {},
   "source": [
    "**前向传播计算过程**"
   ]
  },
  {
   "cell_type": "markdown",
   "metadata": {},
   "source": [
    "![image.png](./images/forward.jpg)"
   ]
  },
  {
   "cell_type": "markdown",
   "metadata": {},
   "source": [
    "> **神经网络：**采集大量的数据对构成数据集   \n",
    ">> **输入特征：**花萼长、花萼宽、花瓣长、花瓣宽   \n",
    ">> **标签（需人工标定）：**对应的类别   "
   ]
  },
  {
   "cell_type": "markdown",
   "metadata": {},
   "source": [
    "把这个数据集喂入搭建好的神经网络结构，网络通过反向传播，优化参数，得到模型。当有新的，从未见过的输入特征输入神经网络时，神经网络会输出结果。"
   ]
  },
  {
   "cell_type": "markdown",
   "metadata": {},
   "source": [
    "![image.png](./images/net-1.jpg)"
   ]
  },
  {
   "cell_type": "markdown",
   "metadata": {},
   "source": [
    "**输入层：**花萼长、花萼宽、花瓣长、花瓣宽   \n",
    "**输出层：**0或1或2"
   ]
  },
  {
   "cell_type": "markdown",
   "metadata": {},
   "source": [
    "![image.png](./images/modul-1.jpg)"
   ]
  },
  {
   "cell_type": "markdown",
   "metadata": {},
   "source": [
    "## MP模型"
   ]
  },
  {
   "cell_type": "markdown",
   "metadata": {},
   "source": [
    "MP模型是McCulloch和Pitts两个人的名字首字母，该模型由他两提出。   \n",
    "N个特征输入乘以权重，求和，再通过一个非线性函数，最后输出。"
   ]
  },
  {
   "cell_type": "markdown",
   "metadata": {},
   "source": [
    "![image.png](./images/modul-2.jpg)"
   ]
  },
  {
   "cell_type": "markdown",
   "metadata": {},
   "source": [
    "模型简化为如下："
   ]
  },
  {
   "cell_type": "markdown",
   "metadata": {},
   "source": [
    "![image.png](./images/modul-simple.jpg)"
   ]
  },
  {
   "cell_type": "markdown",
   "metadata": {},
   "source": [
    "**Y(1,3)**:1行3列 - 输出  \n",
    "**X(1,4)**:1行4列 - 输入  \n",
    "**W(4,3)**:4行3列 - 权重  \n",
    "**b(3,)**:3行 - 偏置  \n"
   ]
  },
  {
   "cell_type": "markdown",
   "metadata": {},
   "source": [
    "## 搭建网络"
   ]
  },
  {
   "cell_type": "markdown",
   "metadata": {},
   "source": [
    "![image.png](./images/net-2.jpg)"
   ]
  },
  {
   "cell_type": "code",
   "execution_count": null,
   "metadata": {},
   "outputs": [],
   "source": []
  }
 ],
 "metadata": {
  "kernelspec": {
   "display_name": "Python 3",
   "language": "python",
   "name": "python3"
  },
  "language_info": {
   "codemirror_mode": {
    "name": "ipython",
    "version": 3
   },
   "file_extension": ".py",
   "mimetype": "text/x-python",
   "name": "python",
   "nbconvert_exporter": "python",
   "pygments_lexer": "ipython3",
   "version": "3.7.7"
  }
 },
 "nbformat": 4,
 "nbformat_minor": 4
}
