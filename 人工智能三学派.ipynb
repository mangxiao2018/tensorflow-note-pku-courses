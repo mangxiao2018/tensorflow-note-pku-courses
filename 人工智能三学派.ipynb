{
 "cells": [
  {
   "cell_type": "markdown",
   "metadata": {},
   "source": [
    "![image.png](./images/1.jpg)"
   ]
  },
  {
   "cell_type": "markdown",
   "metadata": {},
   "source": [
    "- 1、准备数据：采集大量“特征/标签”数据\n",
    "- 2、搭建网络：搭建神经网络结构\n",
    "- 3、优化参数：训练网络获取最佳参数（反向传播）\n",
    "- 4、应用网络：将网络保存为模型，输入新数据，输出分类或预测结果（前向传播）"
   ]
  },
  {
   "cell_type": "markdown",
   "metadata": {},
   "source": [
    "### 三学派：\n",
    "- 1、行为主义：基于控制论。\n",
    "- 2、符号主义：基于算数逻辑表达式。\n",
    "- 3、连接主义：仿生学。"
   ]
  },
  {
   "cell_type": "code",
   "execution_count": null,
   "metadata": {},
   "outputs": [],
   "source": []
  }
 ],
 "metadata": {
  "kernelspec": {
   "display_name": "Python 3",
   "language": "python",
   "name": "python3"
  },
  "language_info": {
   "codemirror_mode": {
    "name": "ipython",
    "version": 3
   },
   "file_extension": ".py",
   "mimetype": "text/x-python",
   "name": "python",
   "nbconvert_exporter": "python",
   "pygments_lexer": "ipython3",
   "version": "3.7.7"
  }
 },
 "nbformat": 4,
 "nbformat_minor": 4
}
