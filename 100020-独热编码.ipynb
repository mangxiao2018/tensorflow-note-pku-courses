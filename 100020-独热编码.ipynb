{
 "cells": [
  {
   "cell_type": "markdown",
   "metadata": {},
   "source": [
    "# 独热编码"
   ]
  },
  {
   "cell_type": "markdown",
   "metadata": {},
   "source": [
    "独热编码（one-hot encoding）：在分类问题中，常用独热码做标签，   \n",
    "标记类别：1表示是，0表示非。"
   ]
  },
  {
   "cell_type": "markdown",
   "metadata": {},
   "source": [
    "       (0狗尾草鸢尾 1杂色鸢尾 2弗吉尼亚鸢尾 ）  \n",
    "标 签： 1    \n",
    "独热码: (0.        1.         0.)  "
   ]
  },
  {
   "cell_type": "markdown",
   "metadata": {},
   "source": [
    "tf.one_hot()函数将待转换数据，转换为one-hot形式的数据输出。   \n",
    "tf.one_hot (待转换数据, depth=几分类)"
   ]
  },
  {
   "cell_type": "code",
   "execution_count": 2,
   "metadata": {},
   "outputs": [],
   "source": [
    "import tensorflow as tf\n",
    "import numpy as np"
   ]
  },
  {
   "cell_type": "code",
   "execution_count": 4,
   "metadata": {},
   "outputs": [
    {
     "name": "stdout",
     "output_type": "stream",
     "text": [
      "tf.Tensor([1 0 2], shape=(3,), dtype=int32)\n",
      "tf.Tensor(\n",
      "[[0. 1. 0.]\n",
      " [1. 0. 0.]\n",
      " [0. 0. 1.]], shape=(3, 3), dtype=float32)\n"
     ]
    }
   ],
   "source": [
    "classes = 3\n",
    "# 输入的元素值最小为0，最大为2\n",
    "labels = tf.constant([1,0,2])\n",
    "print(labels)\n",
    "output = tf.one_hot(labels, depth = classes)\n",
    "print(output)"
   ]
  },
  {
   "cell_type": "code",
   "execution_count": null,
   "metadata": {},
   "outputs": [],
   "source": []
  }
 ],
 "metadata": {
  "kernelspec": {
   "display_name": "Python 3",
   "language": "python",
   "name": "python3"
  },
  "language_info": {
   "codemirror_mode": {
    "name": "ipython",
    "version": 3
   },
   "file_extension": ".py",
   "mimetype": "text/x-python",
   "name": "python",
   "nbconvert_exporter": "python",
   "pygments_lexer": "ipython3",
   "version": "3.7.7"
  }
 },
 "nbformat": 4,
 "nbformat_minor": 4
}
