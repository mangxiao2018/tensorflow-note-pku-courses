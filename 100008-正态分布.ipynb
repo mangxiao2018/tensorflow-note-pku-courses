{
 "cells": [
  {
   "cell_type": "markdown",
   "metadata": {},
   "source": [
    "# 正态分布"
   ]
  },
  {
   "cell_type": "markdown",
   "metadata": {},
   "source": [
    "生成正态分布的随机数，默认均值为0，标准差为1  正态分布也叫高斯分析\n",
    "tf. random.normal (维度，mean=均值，stddev=标准差) "
   ]
  },
  {
   "cell_type": "markdown",
   "metadata": {},
   "source": [
    "生成截断式正态分布的随机数  ，截断式正态分布是把x的取值限定在一定区间内    \n",
    "tf. random.truncated_normal (维度，mean=均值，stddev=标准差)"
   ]
  },
  {
   "cell_type": "code",
   "execution_count": 4,
   "metadata": {},
   "outputs": [],
   "source": [
    "import tensorflow as tf\n",
    "import numpy as np"
   ]
  },
  {
   "cell_type": "code",
   "execution_count": 5,
   "metadata": {},
   "outputs": [
    {
     "name": "stdout",
     "output_type": "stream",
     "text": [
      "tf.Tensor(\n",
      "[[-1.807241    0.4612767 ]\n",
      " [ 1.6605928   0.20751408]], shape=(2, 2), dtype=float32)\n",
      "tf.Tensor(\n",
      "[[1.6100512  2.4129305 ]\n",
      " [0.69218814 0.16099209]], shape=(2, 2), dtype=float32)\n"
     ]
    }
   ],
   "source": [
    "d = tf.random.normal ([2, 2], mean=0.5, stddev=1)\n",
    "print(d)\n",
    "e = tf.random.truncated_normal ([2, 2], mean=0.5, stddev=1)\n",
    "print(e)"
   ]
  },
  {
   "cell_type": "code",
   "execution_count": null,
   "metadata": {},
   "outputs": [],
   "source": []
  }
 ],
 "metadata": {
  "kernelspec": {
   "display_name": "Python 3",
   "language": "python",
   "name": "python3"
  },
  "language_info": {
   "codemirror_mode": {
    "name": "ipython",
    "version": 3
   },
   "file_extension": ".py",
   "mimetype": "text/x-python",
   "name": "python",
   "nbconvert_exporter": "python",
   "pygments_lexer": "ipython3",
   "version": "3.7.7"
  }
 },
 "nbformat": 4,
 "nbformat_minor": 4
}
