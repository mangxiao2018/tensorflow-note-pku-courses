{
 "cells": [
  {
   "cell_type": "markdown",
   "metadata": {},
   "source": [
    "# 正态分布"
   ]
  },
  {
   "cell_type": "markdown",
   "metadata": {},
   "source": [
    "生成正态分布的随机数，默认均值为0，标准差为1  正态分布也叫高斯分析\n",
    "tf. random.normal (维度，mean=均值，stddev=标准差) "
   ]
  },
  {
   "cell_type": "markdown",
   "metadata": {},
   "source": [
    "生成截断式正态分布的随机数  ，截断式正态分布是把x的取值限定在一定区间内    \n",
    "tf. random.truncated_normal (维度，mean=均值，stddev=标准差)"
   ]
  },
  {
   "cell_type": "code",
   "execution_count": 6,
   "metadata": {},
   "outputs": [],
   "source": [
    "import tensorflow as tf\n",
    "import numpy as np"
   ]
  },
  {
   "cell_type": "code",
   "execution_count": 8,
   "metadata": {},
   "outputs": [
    {
     "name": "stdout",
     "output_type": "stream",
     "text": [
      "tf.Tensor(\n",
      "[[ 0.6511828  -0.10325599]\n",
      " [ 0.52734894 -0.22731858]], shape=(2, 2), dtype=float32)\n",
      "tf.Tensor(\n",
      "[[-0.27202696  0.16400748]\n",
      " [ 2.4380121   0.28443348]], shape=(2, 2), dtype=float32)\n"
     ]
    }
   ],
   "source": [
    "d = tf.random.normal ([2, 2], mean=0.5, stddev=1)\n",
    "print(d)\n",
    "e = tf.random.truncated_normal ([2, 2], mean=0.5, stddev=1)\n",
    "print(e)"
   ]
  },
  {
   "cell_type": "code",
   "execution_count": null,
   "metadata": {},
   "outputs": [],
   "source": []
  }
 ],
 "metadata": {
  "kernelspec": {
   "display_name": "Python 3",
   "language": "python",
   "name": "python3"
  },
  "language_info": {
   "codemirror_mode": {
    "name": "ipython",
    "version": 3
   },
   "file_extension": ".py",
   "mimetype": "text/x-python",
   "name": "python",
   "nbconvert_exporter": "python",
   "pygments_lexer": "ipython3",
   "version": "3.7.7"
  }
 },
 "nbformat": 4,
 "nbformat_minor": 4
}
