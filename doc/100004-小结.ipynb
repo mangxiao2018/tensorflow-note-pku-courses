{
 "cells": [
  {
   "cell_type": "markdown",
   "metadata": {},
   "source": [
    "# 小结"
   ]
  },
  {
   "cell_type": "markdown",
   "metadata": {},
   "source": [
    "为什么要引入损失函数？为什么要引入梯度下降？为什么要引入反向传播？"
   ]
  },
  {
   "cell_type": "markdown",
   "metadata": {},
   "source": [
    "拿线性回归为例，为了更好的接近自己想要达到的效果，正常的思维方式做不到，所以引入损失函数这个，通过求损失函数无限接近于0，来使线性回归函数达到最好拟合效果"
   ]
  },
  {
   "cell_type": "markdown",
   "metadata": {},
   "source": [
    "引入梯度下降是为了在寻找w,b两个系数，这个系数使得损失函数达到最小值时，梯度下降一次次的迭代求导，使得损失函数无限逼近0，也就是达到最好的拟合效果，这时对应的系数w,b是什么。"
   ]
  },
  {
   "cell_type": "markdown",
   "metadata": {},
   "source": [
    "引入反向传播是因为反向传播是从后向前求值，而最后面的值是未知，而初始值是已知，所以需要从后向前求值，以求解。"
   ]
  },
  {
   "cell_type": "code",
   "execution_count": null,
   "metadata": {},
   "outputs": [],
   "source": []
  }
 ],
 "metadata": {
  "kernelspec": {
   "display_name": "Python 3",
   "language": "python",
   "name": "python3"
  },
  "language_info": {
   "codemirror_mode": {
    "name": "ipython",
    "version": 3
   },
   "file_extension": ".py",
   "mimetype": "text/x-python",
   "name": "python",
   "nbconvert_exporter": "python",
   "pygments_lexer": "ipython3",
   "version": "3.7.7"
  }
 },
 "nbformat": 4,
 "nbformat_minor": 4
}
