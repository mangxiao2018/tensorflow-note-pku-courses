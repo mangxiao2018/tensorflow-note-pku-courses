{
 "cells": [
  {
   "cell_type": "markdown",
   "metadata": {},
   "source": [
    "# 鸢尾花数据集（Iris）"
   ]
  },
  {
   "cell_type": "markdown",
   "metadata": {},
   "source": [
    "数据集介绍\n",
    "----------------------------------------------------------\n",
    "共有数据150组，每组包括花萼长、花萼宽、花瓣长、花瓣宽4个输入特征。  \n",
    "同时给出了，这一组特征对应的鸢尾花类别。类别包括Setosa Iris（狗尾草  \n",
    "鸢尾），Versicolour Iris（杂色鸢尾），Virginica Iris（弗吉尼亚鸢尾）三  \n",
    "类，分别用数字0，1，2表示"
   ]
  },
  {
   "cell_type": "markdown",
   "metadata": {},
   "source": [
    "![image.png](./images/iris.jpg)"
   ]
  },
  {
   "cell_type": "markdown",
   "metadata": {},
   "source": [
    "从sklearn包 datasets 读入数据集，语法为：  \n",
    "\n",
    "<font color='green'><strong>from sklearn.datasets import load_iris</strong> </font> \n",
    "\n",
    "<font color='green'><strong>x_data = datasets.load_iris().data 返回iris数据集所有输入特征 <strong> </font>\n",
    "\n",
    "<font color='green'><strong>y_data = datasets.load_iris().target 返回iris数据集所有标签 <strong></font>"
   ]
  },
  {
   "cell_type": "markdown",
   "metadata": {},
   "source": [
    "### 神经网络实现鸢尾花分类"
   ]
  },
  {
   "cell_type": "markdown",
   "metadata": {},
   "source": [
    "#### 实现流程步骤"
   ]
  },
  {
   "cell_type": "markdown",
   "metadata": {},
   "source": [
    "<font color='red'><strong>Step1、准备数据  </strong> </font> \n",
    "\n",
    "• 数据集读入   \n",
    "• 数据集乱序  \n",
    "• 生成训练集和测试集（即 x_train / y_train） • 配成 （输入特征，标签） 对，每次读入一小撮（batch）  "
   ]
  },
  {
   "cell_type": "markdown",
   "metadata": {},
   "source": [
    "<font color='red'><strong>Step2、搭建网络    </strong> </font> \n",
    "\n",
    "• 定义神经网路中所有可训练参数"
   ]
  },
  {
   "cell_type": "markdown",
   "metadata": {},
   "source": [
    "<font color='red'><strong>Step3、参数优化   </strong> </font> \n",
    "\n",
    "• 嵌套循环迭代，with结构更新参数，显示当前loss"
   ]
  },
  {
   "cell_type": "markdown",
   "metadata": {},
   "source": [
    "<font color='red'><strong>Step4、测试效果    </strong> </font> \n",
    "\n",
    "• 计算当前参数前向传播后的准确率，显示当前acc"
   ]
  },
  {
   "cell_type": "markdown",
   "metadata": {},
   "source": [
    "<font color='red'><strong>Step5、acc / loss可视化</strong> </font> "
   ]
  },
  {
   "cell_type": "code",
   "execution_count": null,
   "metadata": {},
   "outputs": [],
   "source": []
  }
 ],
 "metadata": {
  "kernelspec": {
   "display_name": "Python 3",
   "language": "python",
   "name": "python3"
  },
  "language_info": {
   "codemirror_mode": {
    "name": "ipython",
    "version": 3
   },
   "file_extension": ".py",
   "mimetype": "text/x-python",
   "name": "python",
   "nbconvert_exporter": "python",
   "pygments_lexer": "ipython3",
   "version": "3.7.7"
  }
 },
 "nbformat": 4,
 "nbformat_minor": 4
}
