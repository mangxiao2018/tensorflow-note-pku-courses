{
 "cells": [
  {
   "cell_type": "markdown",
   "metadata": {},
   "source": [
    "# 神经网络实现鸢尾花分类"
   ]
  },
  {
   "cell_type": "markdown",
   "metadata": {},
   "source": [
    "### <font color='red'><strong>Step1、数据集读入</strong> </font> "
   ]
  },
  {
   "cell_type": "markdown",
   "metadata": {},
   "source": [
    "从sklearn包datasets读入数据集"
   ]
  },
  {
   "cell_type": "code",
   "execution_count": 74,
   "metadata": {},
   "outputs": [],
   "source": [
    "# 导入所需模块\n",
    "import tensorflow as tf\n",
    "from sklearn import datasets\n",
    "from matplotlib import pyplot as plt\n",
    "import numpy as np"
   ]
  },
  {
   "cell_type": "code",
   "execution_count": 75,
   "metadata": {},
   "outputs": [],
   "source": [
    "x = datasets.load_iris()\n",
    "# print(x)\n",
    "# 返回iris数据集所有输入特征\n",
    "x_data = datasets.load_iris().data\n",
    "# print(x_data)\n",
    "# 返回iris数据集所有标签\n",
    "y_data = datasets.load_iris().target\n",
    "# print(y_data)"
   ]
  },
  {
   "cell_type": "markdown",
   "metadata": {},
   "source": [
    "### <font color='red'><strong>Step2、数据集乱序</strong> </font> "
   ]
  },
  {
   "cell_type": "code",
   "execution_count": 76,
   "metadata": {},
   "outputs": [],
   "source": [
    "# 随机打乱数据（因为原始数据是顺序的，顺序不打乱会影响准确率）\n",
    "# seed: 随机数种子，是一个整数，当设置之后，每次生成的随机数都一样（为方便教学，以保每位同学结果一致）\n",
    "np.random.seed(116)  # 使用相同的seed，保证输入特征和标签一一对应\n",
    "# shuffle(x)对集合x里的数据进行乱序,x可以是数组或list等\n",
    "np.random.shuffle(x_data)\n",
    "np.random.seed(116)\n",
    "np.random.shuffle(y_data)\n",
    "tf.random.set_seed(116)"
   ]
  },
  {
   "cell_type": "markdown",
   "metadata": {},
   "source": [
    "### <font color='red'><strong>Step3、数据集分出永不想见的训练集和测试集</strong> </font> "
   ]
  },
  {
   "cell_type": "code",
   "execution_count": 77,
   "metadata": {},
   "outputs": [],
   "source": [
    "# 将打乱后的数据集分割为训练集和测试集，训练集为前120行，测试集为后30行\n",
    "# 冒号 : 的解释：如果只放置一个参数，如 [2]，将返回与该索引相对应的单个元素。如果为 [2:]，表示从该索引开始以后的所有项都将被提取。\n",
    "# 如果使用了两个参数，如 [2:7]，那么则提取两个索引(不包括停止索引)之间的项。\n",
    "# -30表示后30行\n",
    "# [:-30] 表示从开始到第后30行，也就是前120行\n",
    "x_train = x_data[:-30]\n",
    "y_train = y_data[:-30]\n",
    "\n",
    "# [-30:] 表示倒数第30行到最后，也就是后30行\n",
    "x_test = x_data[-30:]\n",
    "y_test = y_data[-30:]"
   ]
  },
  {
   "cell_type": "markdown",
   "metadata": {},
   "source": [
    "### <font color='red'><strong>Step4、配成[输入特征,标签]对，每次喂入一小撮(batch)</strong> </font> "
   ]
  },
  {
   "cell_type": "code",
   "execution_count": 78,
   "metadata": {},
   "outputs": [],
   "source": [
    "# 转换x的数据类型，否则后面矩阵相乘时会因数据类型不一致报错\n",
    "x_train = tf.cast(x_train, tf.float32)\n",
    "x_test = tf.cast(x_test, tf.float32)"
   ]
  },
  {
   "cell_type": "code",
   "execution_count": 80,
   "metadata": {},
   "outputs": [
    {
     "name": "stdout",
     "output_type": "stream",
     "text": [
      "tf.Tensor(\n",
      "[[6.1 2.8 4.  1.3]\n",
      " [6.3 3.3 4.7 1.6]\n",
      " [6.8 2.8 4.8 1.4]\n",
      " [5.3 3.7 1.5 0.2]\n",
      " [5.4 3.4 1.7 0.2]\n",
      " [6.5 3.  5.8 2.2]\n",
      " [7.2 3.6 6.1 2.5]\n",
      " [6.3 3.3 6.  2.5]\n",
      " [6.7 3.  5.  1.7]\n",
      " [4.9 3.1 1.5 0.2]\n",
      " [5.4 3.9 1.7 0.4]\n",
      " [6.5 3.2 5.1 2. ]\n",
      " [5.7 4.4 1.5 0.4]\n",
      " [5.9 3.2 4.8 1.8]\n",
      " [5.1 3.3 1.7 0.5]\n",
      " [5.1 2.5 3.  1.1]\n",
      " [4.9 3.6 1.4 0.1]\n",
      " [6.2 2.9 4.3 1.3]\n",
      " [5.8 2.8 5.1 2.4]\n",
      " [6.8 3.2 5.9 2.3]\n",
      " [6.2 2.2 4.5 1.5]\n",
      " [4.9 3.1 1.5 0.1]\n",
      " [4.7 3.2 1.6 0.2]\n",
      " [4.6 3.4 1.4 0.3]\n",
      " [5.2 4.1 1.5 0.1]\n",
      " [6.3 2.5 4.9 1.5]\n",
      " [5.4 3.  4.5 1.5]\n",
      " [6.  2.2 4.  1. ]\n",
      " [4.6 3.2 1.4 0.2]\n",
      " [6.4 2.8 5.6 2.1]\n",
      " [5.  3.4 1.5 0.2]\n",
      " [6.7 3.1 5.6 2.4]\n",
      " [5.7 2.6 3.5 1. ]\n",
      " [7.7 2.8 6.7 2. ]\n",
      " [6.9 3.1 5.4 2.1]\n",
      " [4.9 2.5 4.5 1.7]\n",
      " [5.4 3.4 1.5 0.4]\n",
      " [6.3 2.9 5.6 1.8]\n",
      " [7.7 3.8 6.7 2.2]\n",
      " [6.9 3.1 4.9 1.5]\n",
      " [5.1 3.5 1.4 0.2]\n",
      " [6.3 2.8 5.1 1.5]\n",
      " [6.4 3.2 5.3 2.3]\n",
      " [6.1 3.  4.9 1.8]\n",
      " [6.5 3.  5.5 1.8]\n",
      " [5.7 3.8 1.7 0.3]\n",
      " [5.5 4.2 1.4 0.2]\n",
      " [5.4 3.9 1.3 0.4]\n",
      " [5.1 3.5 1.4 0.3]\n",
      " [5.  3.  1.6 0.2]\n",
      " [5.5 3.5 1.3 0.2]\n",
      " [4.4 3.2 1.3 0.2]\n",
      " [4.4 3.  1.3 0.2]\n",
      " [5.  3.2 1.2 0.2]\n",
      " [5.8 2.6 4.  1.2]\n",
      " [6.3 3.4 5.6 2.4]\n",
      " [6.2 3.4 5.4 2.3]\n",
      " [4.9 2.4 3.3 1. ]\n",
      " [5.6 2.7 4.2 1.3]\n",
      " [5.  3.5 1.6 0.6]\n",
      " [5.  3.5 1.3 0.3]\n",
      " [5.5 2.4 3.8 1.1]\n",
      " [4.8 3.4 1.9 0.2]\n",
      " [5.6 3.  4.5 1.5]\n",
      " [5.6 2.9 3.6 1.3]\n",
      " [7.  3.2 4.7 1.4]\n",
      " [7.7 2.6 6.9 2.3]\n",
      " [5.  3.4 1.6 0.4]\n",
      " [5.2 3.4 1.4 0.2]\n",
      " [4.6 3.6 1.  0.2]\n",
      " [6.2 2.8 4.8 1.8]\n",
      " [4.5 2.3 1.3 0.3]\n",
      " [5.6 2.5 3.9 1.1]\n",
      " [5.8 4.  1.2 0.2]\n",
      " [6.6 3.  4.4 1.4]\n",
      " [5.5 2.4 3.7 1. ]\n",
      " [7.2 3.  5.8 1.6]\n",
      " [7.1 3.  5.9 2.1]\n",
      " [5.9 3.  5.1 1.8]\n",
      " [5.8 2.7 5.1 1.9]\n",
      " [6.8 3.  5.5 2.1]\n",
      " [4.7 3.2 1.3 0.2]\n",
      " [5.  2.  3.5 1. ]\n",
      " [5.2 2.7 3.9 1.4]\n",
      " [6.5 3.  5.2 2. ]\n",
      " [5.  3.6 1.4 0.2]\n",
      " [6.4 2.9 4.3 1.3]\n",
      " [6.7 3.1 4.7 1.5]\n",
      " [4.8 3.1 1.6 0.2]\n",
      " [5.8 2.7 5.1 1.9]\n",
      " [6.3 2.5 5.  1.9]\n",
      " [6.1 2.6 5.6 1.4]\n",
      " [6.  2.9 4.5 1.5]\n",
      " [6.1 2.9 4.7 1.4]\n",
      " [7.6 3.  6.6 2.1]\n",
      " [6.9 3.1 5.1 2.3]\n",
      " [7.9 3.8 6.4 2. ]\n",
      " [5.6 3.  4.1 1.3]\n",
      " [7.7 3.  6.1 2.3]\n",
      " [5.7 2.5 5.  2. ]\n",
      " [5.1 3.4 1.5 0.2]\n",
      " [5.9 3.  4.2 1.5]\n",
      " [6.  3.4 4.5 1.6]\n",
      " [6.4 2.7 5.3 1.9]\n",
      " [7.2 3.2 6.  1.8]\n",
      " [6.9 3.2 5.7 2.3]\n",
      " [5.7 3.  4.2 1.2]\n",
      " [6.  3.  4.8 1.8]\n",
      " [6.  2.7 5.1 1.6]\n",
      " [5.2 3.5 1.5 0.2]\n",
      " [6.4 3.1 5.5 1.8]\n",
      " [6.7 3.  5.2 2.3]\n",
      " [6.4 2.8 5.6 2.2]\n",
      " [6.7 2.5 5.8 1.8]\n",
      " [6.7 3.3 5.7 2.5]\n",
      " [4.8 3.  1.4 0.1]\n",
      " [6.7 3.1 4.4 1.4]\n",
      " [5.1 3.8 1.5 0.3]\n",
      " [5.  2.3 3.3 1. ]\n",
      " [6.  2.2 5.  1.5]], shape=(120, 4), dtype=float32)\n",
      "[1 1 1 0 0 2 2 2 1 0 0 2 0 1 0 1 0 1 2 2 1 0 0 0 0 1 1 1 0 2 0 2 1 2 2 2 0\n",
      " 2 2 1 0 2 2 2 2 0 0 0 0 0 0 0 0 0 1 2 2 1 1 0 0 1 0 1 1 1 2 0 0 0 2 0 1 0\n",
      " 1 1 2 2 2 2 2 0 1 1 2 0 1 1 0 2 2 2 1 1 2 2 2 1 2 2 0 1 1 2 2 2 1 2 1 0 2\n",
      " 2 2 2 2 0 1 0 1 2]\n",
      "<BatchDataset shapes: ((None, 4), (None,)), types: (tf.float32, tf.int32)>\n"
     ]
    }
   ],
   "source": [
    "# 配对\n",
    "# from_tensor_slices函数使输入特征和标签值一一对应。（把数据集分批次，每个批次batch组数据）\n",
    "# batch(32)中的32代表32组\n",
    "train_db = tf.data.Dataset.from_tensor_slices((x_train, y_train)).batch(32)\n",
    "test_db = tf.data.Dataset.from_tensor_slices((x_test, y_test)).batch(32)\n"
   ]
  },
  {
   "cell_type": "markdown",
   "metadata": {},
   "source": [
    "### <font color='red'><strong>Step5、定义神经网络中所有可训练参数</strong> </font> "
   ]
  },
  {
   "cell_type": "code",
   "execution_count": 81,
   "metadata": {},
   "outputs": [
    {
     "name": "stdout",
     "output_type": "stream",
     "text": [
      "<tf.Variable 'Variable:0' shape=(4, 3) dtype=float32, numpy=\n",
      "array([[ 0.08249953, -0.0683137 ,  0.19668601],\n",
      "       [-0.05480815,  0.04570521,  0.1357149 ],\n",
      "       [ 0.07750896, -0.16734955, -0.10294553],\n",
      "       [ 0.15784004, -0.13311003,  0.06045313]], dtype=float32)>\n",
      "<tf.Variable 'Variable:0' shape=(3,) dtype=float32, numpy=array([-0.09194934, -0.12376948, -0.05381497], dtype=float32)>\n"
     ]
    }
   ],
   "source": [
    "# 生成神经网络的参数，4个输入特征故，输入层为4个输入节点；因为3分类，故输出层为3个神经元\n",
    "# 用tf.Variable()标记参数可训练\n",
    "# 使用seed使每次生成的随机数相同（方便教学，使大家结果都一致，在现实使用时不写seed）\n",
    "# tf.random.truncated_normal()截断正态分布????这个鬼需要好好了解一下：1.为什么要用它，直接用原始数据不行么？？？\n",
    "w1 = tf.Variable(tf.random.truncated_normal([4, 3], stddev=0.1, seed=1))\n",
    "b1 = tf.Variable(tf.random.truncated_normal([3], stddev=0.1, seed=1))\n",
    "print(w1)\n",
    "print(b1)"
   ]
  },
  {
   "cell_type": "markdown",
   "metadata": {},
   "source": [
    "### <font color='red'><strong>Step6、嵌套循环跌代，with结构参数，显示当前loss</strong> </font> "
   ]
  },
  {
   "cell_type": "code",
   "execution_count": 69,
   "metadata": {},
   "outputs": [],
   "source": [
    "lr = 0.1  # 学习率为0.1\n",
    "train_loss_results = []  # 将每轮的loss记录在此列表中，为后续画loss曲线提供数据\n",
    "test_acc = []  # 将每轮的acc记录在此列表中，为后续画acc曲线提供数据\n",
    "epoch = 10  # 循环500轮\n",
    "loss_all = 0  # 每轮分4个step，loss_all记录四个step生成的4个loss的和"
   ]
  },
  {
   "cell_type": "code",
   "execution_count": 71,
   "metadata": {},
   "outputs": [
    {
     "name": "stdout",
     "output_type": "stream",
     "text": [
      "Epoch 0, loss: 0.08543741516768932\n",
      "Test_acc: 0.6\n",
      "--------------------------\n",
      "Epoch 1, loss: 0.08493702113628387\n",
      "Test_acc: 0.6\n",
      "--------------------------\n",
      "Epoch 2, loss: 0.08444313704967499\n",
      "Test_acc: 0.6333333333333333\n",
      "--------------------------\n",
      "Epoch 3, loss: 0.08395560085773468\n",
      "Test_acc: 0.6333333333333333\n",
      "--------------------------\n",
      "Epoch 4, loss: 0.08347426354885101\n",
      "Test_acc: 0.6333333333333333\n",
      "--------------------------\n",
      "Epoch 5, loss: 0.08299897983670235\n",
      "Test_acc: 0.6333333333333333\n",
      "--------------------------\n",
      "Epoch 6, loss: 0.08252961002290249\n",
      "Test_acc: 0.6333333333333333\n",
      "--------------------------\n",
      "Epoch 7, loss: 0.08206603676080704\n",
      "Test_acc: 0.6333333333333333\n",
      "--------------------------\n",
      "Epoch 8, loss: 0.0816081278026104\n",
      "Test_acc: 0.6333333333333333\n",
      "--------------------------\n"
     ]
    }
   ],
   "source": [
    "# 训练部分\n",
    "# enumerate() 函数用于将一个可遍历的数据对象(如列表、元组或字符串)组合为一个索引序列，同时列出数据和数据下标，一般用在 for 循环当中\n",
    "for epoch in range(epoch):  #数据集级别的循环，每个epoch循环一次数据集\n",
    "    for step, (x_train, y_train) in enumerate(train_db):  #batch级别的循环 ，每个step循环一个batch\n",
    "        with tf.GradientTape() as tape:  # with结构记录梯度信息\n",
    "            y = tf.matmul(x_train, w1) + b1  # 神经网络乘加运算\n",
    "            y = tf.nn.softmax(y)  # 使输出y符合概率分布（此操作后与独热码同量级，可相减求loss）\n",
    "            y_ = tf.one_hot(y_train, depth=3)  # 将标签值转换为独热码格式，方便计算loss和accuracy\n",
    "            loss = tf.reduce_mean(tf.square(y_ - y))  # 采用均方误差损失函数mse = mean(sum(y-out)^2)\n",
    "            loss_all += loss.numpy()  # 将每个step计算出的loss累加，为后续求loss平均值提供数据，这样计算的loss更准确\n",
    "        # 计算loss对各个参数的梯度\n",
    "        grads = tape.gradient(loss, [w1, b1])\n",
    "\n",
    "        # 实现梯度更新 w1 = w1 - lr * w1_grad    b = b - lr * b_grad\n",
    "        w1.assign_sub(lr * grads[0])  # 参数w1自更新\n",
    "        b1.assign_sub(lr * grads[1])  # 参数b自更新\n",
    "\n",
    "    # 每个epoch，打印loss信息\n",
    "    print(\"Epoch {}, loss: {}\".format(epoch, loss_all/4))\n",
    "    train_loss_results.append(loss_all / 4)  # 将4个step的loss求平均记录在此变量中\n",
    "    loss_all = 0  # loss_all归零，为记录下一个epoch的loss做准备\n",
    "\n",
    "    # 测试部分\n",
    "    # total_correct为预测对的样本个数, total_number为测试的总样本数，将这两个变量都初始化为0\n",
    "    total_correct, total_number = 0, 0\n",
    "    for x_test, y_test in test_db:\n",
    "        # 使用更新后的参数进行预测\n",
    "        y = tf.matmul(x_test, w1) + b1\n",
    "        y = tf.nn.softmax(y)\n",
    "        pred = tf.argmax(y, axis=1)  # 返回y中最大值的索引，即预测的分类\n",
    "        # 将pred转换为y_test的数据类型\n",
    "        pred = tf.cast(pred, dtype=y_test.dtype)\n",
    "        # 若分类正确，则correct=1，否则为0，将bool型的结果转换为int型\n",
    "        correct = tf.cast(tf.equal(pred, y_test), dtype=tf.int32)\n",
    "        # 将每个batch的correct数加起来\n",
    "        correct = tf.reduce_sum(correct)\n",
    "        # 将所有batch中的correct数加起来\n",
    "        total_correct += int(correct)\n",
    "        # total_number为测试的总样本数，也就是x_test的行数，shape[0]返回变量的行数\n",
    "        total_number += x_test.shape[0]\n",
    "    # 总的准确率等于total_correct/total_number\n",
    "    acc = total_correct / total_number\n",
    "    test_acc.append(acc)\n",
    "    print(\"Test_acc:\", acc)\n",
    "    print(\"--------------------------\")\n"
   ]
  },
  {
   "cell_type": "markdown",
   "metadata": {},
   "source": [
    "### <font color='red'><strong>Step7、计算当前参数前向传播后的准确率真，显示当前acc</strong> </font> "
   ]
  },
  {
   "cell_type": "code",
   "execution_count": null,
   "metadata": {},
   "outputs": [],
   "source": [
    "\n",
    "    "
   ]
  },
  {
   "cell_type": "markdown",
   "metadata": {},
   "source": [
    "### <font color='red'><strong>Step8、acc/loss可视化</strong> </font> "
   ]
  },
  {
   "cell_type": "code",
   "execution_count": 72,
   "metadata": {},
   "outputs": [
    {
     "data": {
      "image/png": "[encoded data removed]",
      "text/plain": [
       "<Figure size 432x288 with 1 Axes>"
      ]
     },
     "metadata": {
      "needs_background": "light"
     },
     "output_type": "display_data"
    },
    {
     "data": {
      "image/png": "[encoded data removed]",
      "text/plain": [
       "<Figure size 432x288 with 1 Axes>"
      ]
     },
     "metadata": {
      "needs_background": "light"
     },
     "output_type": "display_data"
    }
   ],
   "source": [
    "# 绘制 loss 曲线\n",
    "plt.title('Loss Function Curve')  # 图片标题\n",
    "plt.xlabel('Epoch')  # x轴变量名称\n",
    "plt.ylabel('Loss')  # y轴变量名称\n",
    "plt.plot(train_loss_results, label=\"$Loss$\")  # 逐点画出trian_loss_results值并连线，连线图标是Loss\n",
    "plt.legend()  # 画出曲线图标\n",
    "plt.show()  # 画出图像\n",
    "\n",
    "# 绘制 Accuracy 曲线\n",
    "plt.title('Acc Curve')  # 图片标题\n",
    "plt.xlabel('Epoch')  # x轴变量名称\n",
    "plt.ylabel('Acc')  # y轴变量名称\n",
    "plt.plot(test_acc, label=\"$Accuracy$\")  # 逐点画出test_acc值并连线，连线图标是Accuracy\n",
    "plt.legend()\n",
    "plt.show()"
   ]
  },
  {
   "cell_type": "code",
   "execution_count": null,
   "metadata": {},
   "outputs": [],
   "source": []
  },
  {
   "cell_type": "code",
   "execution_count": null,
   "metadata": {},
   "outputs": [],
   "source": []
  }
 ],
 "metadata": {
  "kernelspec": {
   "display_name": "Python 3",
   "language": "python",
   "name": "python3"
  },
  "language_info": {
   "codemirror_mode": {
    "name": "ipython",
    "version": 3
   },
   "file_extension": ".py",
   "mimetype": "text/x-python",
   "name": "python",
   "nbconvert_exporter": "python",
   "pygments_lexer": "ipython3",
   "version": "3.7.7"
  }
 },
 "nbformat": 4,
 "nbformat_minor": 4
}
